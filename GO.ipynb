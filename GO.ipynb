{
 "cells": [
  {
   "cell_type": "markdown",
   "metadata": {},
   "source": [
    "<h2>Classification of GO Questions using LSTM network</h2>\n",
    "<p><i>Author: Shamik Kundu (M.Tech, IIT Hyderabad)</i></p>"
   ]
  },
  {
   "cell_type": "code",
   "execution_count": 266,
   "metadata": {},
   "outputs": [],
   "source": [
    "import pandas as pd\n",
    "import numpy as np\n",
    "import os\n",
    "import seaborn as sns\n",
    "from keras.preprocessing.text import Tokenizer\n",
    "from keras.preprocessing.sequence import pad_sequences\n",
    "from keras.utils import to_categorical\n",
    "from sklearn import preprocessing\n",
    "from sklearn.model_selection import train_test_split\n",
    "from sklearn.metrics import confusion_matrix\n",
    "from sklearn.metrics import classification_report\n",
    "import matplotlib.pyplot as plt\n",
    "%matplotlib inline\n",
    "plt.style.use('fivethirtyeight')\n",
    "import pandas as pd\n",
    "import re"
   ]
  },
  {
   "cell_type": "markdown",
   "metadata": {},
   "source": [
    "<h3>Function for Preprocessing:</h3>"
   ]
  },
  {
   "cell_type": "code",
   "execution_count": 200,
   "metadata": {
    "collapsed": true
   },
   "outputs": [],
   "source": [
    "def clean_str(string):\n",
    "    string = re.sub(r\"[^A-Za-z0-9(),!?\\'\\`]\", \" \", string)\n",
    "    string = re.sub(r\"\\'s\", \" \\'s\", string)\n",
    "    string = re.sub(r\"\\'ve\", \" \\'ve\", string)\n",
    "    string = re.sub(r\"n\\'t\", \" n\\'t\", string)\n",
    "    string = re.sub(r\"\\'re\", \" \\'re\", string)\n",
    "    string = re.sub(r\"\\'d\", \" \\'d\", string)\n",
    "    string = re.sub(r\"\\'ll\", \" \\'ll\", string)\n",
    "    string = re.sub(r\",\", \" , \", string)\n",
    "    string = re.sub(r\"!\", \" ! \", string)\n",
    "    string = re.sub(r\"\\(\", \" \\( \", string)\n",
    "    string = re.sub(r\"\\)\", \" \\) \", string)\n",
    "    string = re.sub(r\"\\?\", \" \\? \", string)\n",
    "    string = re.sub(r\"\\s{2,}\", \" \", string)\n",
    "    return string.strip().lower()"
   ]
  },
  {
   "cell_type": "markdown",
   "metadata": {},
   "source": [
    "<h3>Making the dataset suitable to use as input for LSTM network:</h3>\n",
    "<ul>\n",
    "<li>Reading data from the given dataset in a pandas dataframe</li>\n",
    "<li>Add a new column ('Question_cleaned')  in the dataframe which consists of the cleaned version of the column 'Question' </li>\n",
    "<li>Encode the categorical labels in numerical form so that they can be used in our algorithm</li>\n",
    "<li>Add another column in our dataframe which consists of numerical form of categorical labels. At this point, our dataframe is ready to be used in LSTM network</li>\n",
    "</ul>"
   ]
  },
  {
   "cell_type": "code",
   "execution_count": 196,
   "metadata": {
    "collapsed": true
   },
   "outputs": [],
   "source": [
    "df = pd.read_csv(\"cleaned_dataset.csv\")"
   ]
  },
  {
   "cell_type": "code",
   "execution_count": 197,
   "metadata": {},
   "outputs": [
    {
     "data": {
      "text/html": [
       "<div>\n",
       "<style>\n",
       "    .dataframe thead tr:only-child th {\n",
       "        text-align: right;\n",
       "    }\n",
       "\n",
       "    .dataframe thead th {\n",
       "        text-align: left;\n",
       "    }\n",
       "\n",
       "    .dataframe tbody tr th {\n",
       "        vertical-align: top;\n",
       "    }\n",
       "</style>\n",
       "<table border=\"1\" class=\"dataframe\">\n",
       "  <thead>\n",
       "    <tr style=\"text-align: right;\">\n",
       "      <th></th>\n",
       "      <th>Question</th>\n",
       "      <th>Tag</th>\n",
       "    </tr>\n",
       "  </thead>\n",
       "  <tbody>\n",
       "    <tr>\n",
       "      <th>0</th>\n",
       "      <td>Let A be array of n integers sorted so that A ...</td>\n",
       "      <td>Algorithm Design</td>\n",
       "    </tr>\n",
       "    <tr>\n",
       "      <th>1</th>\n",
       "      <td>An element in an array X is called a leader if...</td>\n",
       "      <td>Algorithm Design</td>\n",
       "    </tr>\n",
       "    <tr>\n",
       "      <th>2</th>\n",
       "      <td>Given two arrays of numbers a_ 1 a_ n and b_ 1...</td>\n",
       "      <td>Algorithm Design</td>\n",
       "    </tr>\n",
       "    <tr>\n",
       "      <th>3</th>\n",
       "      <td>You are given ten rings numbered from 1 to 10 ...</td>\n",
       "      <td>Algorithm Design</td>\n",
       "    </tr>\n",
       "    <tr>\n",
       "      <th>4</th>\n",
       "      <td>The correct matching for the following pairs i...</td>\n",
       "      <td>Algorithm Design Techniques</td>\n",
       "    </tr>\n",
       "  </tbody>\n",
       "</table>\n",
       "</div>"
      ],
      "text/plain": [
       "                                            Question  \\\n",
       "0  Let A be array of n integers sorted so that A ...   \n",
       "1  An element in an array X is called a leader if...   \n",
       "2  Given two arrays of numbers a_ 1 a_ n and b_ 1...   \n",
       "3  You are given ten rings numbered from 1 to 10 ...   \n",
       "4  The correct matching for the following pairs i...   \n",
       "\n",
       "                           Tag  \n",
       "0             Algorithm Design  \n",
       "1             Algorithm Design  \n",
       "2             Algorithm Design  \n",
       "3             Algorithm Design  \n",
       "4  Algorithm Design Techniques  "
      ]
     },
     "execution_count": 197,
     "metadata": {},
     "output_type": "execute_result"
    }
   ],
   "source": [
    "df.head()"
   ]
  },
  {
   "cell_type": "code",
   "execution_count": 201,
   "metadata": {},
   "outputs": [],
   "source": [
    "cleanedtextlist = []\n",
    "for index,row in df.iterrows():\n",
    "    cleanedtext = clean_str(row['Question'])\n",
    "    cleanedtextlist.append(cleanedtext)"
   ]
  },
  {
   "cell_type": "code",
   "execution_count": 204,
   "metadata": {},
   "outputs": [],
   "source": [
    "df['Question_cleaned'] = cleanedtextlist"
   ]
  },
  {
   "cell_type": "code",
   "execution_count": 205,
   "metadata": {},
   "outputs": [
    {
     "data": {
      "text/plain": [
       "1750"
      ]
     },
     "execution_count": 205,
     "metadata": {},
     "output_type": "execute_result"
    }
   ],
   "source": [
    "len(df)"
   ]
  },
  {
   "cell_type": "code",
   "execution_count": 206,
   "metadata": {},
   "outputs": [],
   "source": [
    "taglist = df.Tag.unique().tolist()"
   ]
  },
  {
   "cell_type": "code",
   "execution_count": 207,
   "metadata": {},
   "outputs": [
    {
     "data": {
      "text/plain": [
       "303"
      ]
     },
     "execution_count": 207,
     "metadata": {},
     "output_type": "execute_result"
    }
   ],
   "source": [
    "len(taglist)"
   ]
  },
  {
   "cell_type": "code",
   "execution_count": 208,
   "metadata": {},
   "outputs": [
    {
     "data": {
      "text/plain": [
       "(1750, 305)"
      ]
     },
     "execution_count": 208,
     "metadata": {},
     "output_type": "execute_result"
    }
   ],
   "source": [
    "labels.shape"
   ]
  },
  {
   "cell_type": "code",
   "execution_count": 209,
   "metadata": {},
   "outputs": [
    {
     "data": {
      "text/plain": [
       "[nan,\n",
       " nan,\n",
       " 'Absolute Value',\n",
       " 'Abstract Data Type',\n",
       " 'Abstract Syntax Tree',\n",
       " 'Adder',\n",
       " 'Addressing Modes',\n",
       " 'Algorithm Design',\n",
       " 'Algorithm Design Techniques',\n",
       " 'Aliasing',\n",
       " 'Application Layer Protocols',\n",
       " 'Array Multiplier',\n",
       " 'Arrays',\n",
       " 'Assembler',\n",
       " 'Asymptotic Notations',\n",
       " 'B Tree',\n",
       " 'Bayes Theorem',\n",
       " 'Binary Operation',\n",
       " 'Binary Search Tree',\n",
       " 'Binary Tree',\n",
       " 'Binomial Distribution',\n",
       " 'Bit Stuffing',\n",
       " 'Boolean Algebra',\n",
       " 'Boolean Expressions',\n",
       " 'Boolean Operations',\n",
       " 'Booth Recoding',\n",
       " 'Booths Algorithm',\n",
       " 'Bridges',\n",
       " 'Bst',\n",
       " 'Cache Memory',\n",
       " 'Candidate Keys',\n",
       " 'Canonical Normal Form',\n",
       " 'Carry Generator',\n",
       " 'Circuit Output',\n",
       " 'Cisc Risc Architecture',\n",
       " 'Clock Frequency',\n",
       " 'Clock Time',\n",
       " 'Closure Property',\n",
       " 'Code Optimization',\n",
       " 'Combinational',\n",
       " 'Communication',\n",
       " 'Compilation Phases',\n",
       " 'Computer Peripherals',\n",
       " 'Concurrency',\n",
       " 'Conditional Probability',\n",
       " 'Conflict Misses',\n",
       " 'Conflict Serializable',\n",
       " 'Congestion Control',\n",
       " 'Conjunctive Normal Form',\n",
       " 'Context Free Language',\n",
       " 'Context Switch',\n",
       " 'Continuity',\n",
       " 'Control Unit',\n",
       " 'Cost Market Price',\n",
       " 'Countable Set',\n",
       " 'Counting',\n",
       " 'Crc Polynomial',\n",
       " 'Critical Section',\n",
       " 'Cryptography',\n",
       " 'Csma Cd',\n",
       " 'Data Dependences',\n",
       " 'Data Independence',\n",
       " 'Data Interpretation',\n",
       " 'Data Path',\n",
       " 'Database',\n",
       " 'Database Normalization',\n",
       " 'Decidability',\n",
       " 'Decoder',\n",
       " 'Degree Of Graph',\n",
       " 'Determinant',\n",
       " 'Differentiability',\n",
       " 'Digital Circuits',\n",
       " 'Digital Counter',\n",
       " 'Dining Philosopher',\n",
       " 'Direction Sense',\n",
       " 'Disk Scheduling',\n",
       " 'Disks',\n",
       " 'Distance Vector Routing',\n",
       " 'Dma',\n",
       " 'Dns',\n",
       " 'Dual Function',\n",
       " 'Dynamic Programming',\n",
       " 'Effective Memory Access',\n",
       " 'Eigen Value',\n",
       " 'Encoding',\n",
       " 'English Grammar',\n",
       " 'Er Diagram',\n",
       " 'Error Detection',\n",
       " 'Ethernet',\n",
       " 'Euler Graph',\n",
       " 'Expectation',\n",
       " 'Exponential Distribution',\n",
       " 'Expression Evaluation',\n",
       " 'Expression Tree',\n",
       " 'Factors',\n",
       " 'Fields',\n",
       " 'File',\n",
       " 'File System',\n",
       " 'Finite Automata',\n",
       " 'Firewall',\n",
       " 'First Order Logic',\n",
       " 'Fixed Point Representation',\n",
       " 'Flip Flop',\n",
       " 'Floating Point Representation',\n",
       " 'Fork',\n",
       " 'Functional Completeness',\n",
       " 'Functional Dependencies',\n",
       " 'Functions',\n",
       " 'Generating Functions',\n",
       " 'Geometry',\n",
       " 'Goto',\n",
       " 'Grammar',\n",
       " 'Graph Algorithms',\n",
       " 'Graph Coloring',\n",
       " 'Graph Connectivity',\n",
       " 'Graph Isomorphism',\n",
       " 'Graph Matching',\n",
       " 'Graph Planarity',\n",
       " 'Graphs',\n",
       " 'Gray Code',\n",
       " 'Greedy Algorithm',\n",
       " 'Groups',\n",
       " 'Half Adder',\n",
       " 'Hamming Code',\n",
       " 'Hashing',\n",
       " 'Heap',\n",
       " 'Huffman Code',\n",
       " 'Icmp',\n",
       " 'Identify Class Language',\n",
       " 'Identify Function',\n",
       " 'Ieee Representation',\n",
       " 'Indexing',\n",
       " 'Inference',\n",
       " 'Infix Postfix',\n",
       " 'Instruction Execution',\n",
       " 'Instruction Format',\n",
       " 'Integration',\n",
       " 'Inter Process Communication',\n",
       " 'Intermediate Code',\n",
       " 'Interrupts',\n",
       " 'Io Handling',\n",
       " 'Ip Packet',\n",
       " 'Ipv4',\n",
       " 'Joins',\n",
       " 'K Map',\n",
       " 'Lan Technologies',\n",
       " 'Lattice',\n",
       " 'Left Recursion',\n",
       " 'Lexical Analysis',\n",
       " 'Limits',\n",
       " 'Line Graph',\n",
       " 'Link State Routing',\n",
       " 'Linked Lists',\n",
       " 'Linking',\n",
       " 'Live Variable',\n",
       " 'Logic Gates',\n",
       " 'Logical Reasoning',\n",
       " 'Longest Mask',\n",
       " 'Loop Invariants',\n",
       " 'Mac Protocol',\n",
       " 'Machine Instructions',\n",
       " 'Macros',\n",
       " 'Manchester Encoding',\n",
       " 'Matrices',\n",
       " 'Maxima Minima',\n",
       " 'Memory Allocation',\n",
       " 'Memory Interfacing',\n",
       " 'Memory Management',\n",
       " 'Microprogramming',\n",
       " 'Min No Gates',\n",
       " 'Min Product Of Sums',\n",
       " 'Min Sum Of Products Form',\n",
       " 'Minimal State Automata',\n",
       " 'Minimum Maximum',\n",
       " 'Modular Arithmetic',\n",
       " 'Multiplexer',\n",
       " 'Multivalued Dependency 4nf',\n",
       " 'Natural Join',\n",
       " 'Network Addressing',\n",
       " 'Network Communication',\n",
       " 'Network Flow',\n",
       " 'Network Layering',\n",
       " 'Network Protocols',\n",
       " 'Network Security',\n",
       " 'Network Switching',\n",
       " 'No Of Digits',\n",
       " 'Non Determinism',\n",
       " 'Normal Distribution',\n",
       " 'Np Completeness',\n",
       " 'Number Representation',\n",
       " 'Number Series',\n",
       " 'Number System',\n",
       " 'Number Theory',\n",
       " 'Numerical Computation',\n",
       " 'Os Protection',\n",
       " 'Osi Protocol',\n",
       " 'Overlay',\n",
       " 'Page Fault',\n",
       " 'Page Replacement',\n",
       " 'Parameter Passing',\n",
       " 'Parsing',\n",
       " 'Partial Order',\n",
       " 'Passage Reading',\n",
       " 'Percentage',\n",
       " 'Permutation Combination',\n",
       " 'Permutations And Combinations',\n",
       " 'Phase Shift',\n",
       " 'Pigeonhole Principle',\n",
       " 'Pipelining',\n",
       " 'Poisson Distribution',\n",
       " 'Polynomials',\n",
       " 'Precedence Graph',\n",
       " 'Prime Implicants',\n",
       " 'Priority Queue',\n",
       " 'Probability',\n",
       " 'Process',\n",
       " 'Process Schedule',\n",
       " 'Process Synchronization',\n",
       " 'Programming Constructs',\n",
       " 'Programming In C',\n",
       " 'Programming Paradigms',\n",
       " 'Proportions',\n",
       " 'Propositional Logic',\n",
       " 'Pseudo Code',\n",
       " 'Pumping Lemma',\n",
       " 'Pushdown Automata',\n",
       " 'Quadratic Equations',\n",
       " 'Queues',\n",
       " 'Ram',\n",
       " 'Random Variable',\n",
       " 'Recurrence',\n",
       " 'Recursion',\n",
       " 'Recursive And Recursively Enumerable Languages',\n",
       " 'Referential Integrity',\n",
       " 'Register Allocation',\n",
       " 'Regular Expressions',\n",
       " 'Regular Grammar',\n",
       " 'Regular Graph',\n",
       " 'Regular Languages',\n",
       " 'Relational Algebra',\n",
       " 'Relational Calculus',\n",
       " 'Relations',\n",
       " 'Resource Allocation',\n",
       " 'Rom',\n",
       " 'Routers Bridge Hubs Switches',\n",
       " 'Routing',\n",
       " 'Rs Flip Flop',\n",
       " 'Rsa Security Networks',\n",
       " 'Runtime Environments',\n",
       " 'Safe Query',\n",
       " 'Searching',\n",
       " 'Selective Repeat',\n",
       " 'Semaphore',\n",
       " 'Serial Communication',\n",
       " 'Sets',\n",
       " 'Shift Registers',\n",
       " 'Sliding Window',\n",
       " 'Sockets',\n",
       " 'Sorting',\n",
       " 'Spanning Tree',\n",
       " 'Speedup',\n",
       " 'Sql',\n",
       " 'Stack',\n",
       " 'Statement Sufficiency',\n",
       " 'Static Hazard',\n",
       " 'Static Single Assignment',\n",
       " 'Stop And Wait',\n",
       " 'Sub Queries',\n",
       " 'Subnetting',\n",
       " 'Summation',\n",
       " 'Synchronous Asynchronous Circuits',\n",
       " 'Synchronous Circuit',\n",
       " 'Synchronous Counter',\n",
       " 'Syntax Directed Translation',\n",
       " 'System Calls',\n",
       " 'System Of Equations',\n",
       " 'Target Code Generation',\n",
       " 'Tcp',\n",
       " 'Tenses',\n",
       " 'Threads',\n",
       " 'Time Complexity',\n",
       " 'Timestamp Ordering',\n",
       " 'Token Bucket',\n",
       " 'Transaction And Concurrency',\n",
       " 'Transactions',\n",
       " 'Tree',\n",
       " 'Trees',\n",
       " 'True False',\n",
       " 'Turing Machine',\n",
       " 'Type Checking',\n",
       " 'Udp',\n",
       " 'Uniform Distribution',\n",
       " 'User Modes',\n",
       " 'Variable Scope',\n",
       " 'Vector Space',\n",
       " 'Verbal Reasoning',\n",
       " 'Vertex Cover',\n",
       " 'Viable Prefix',\n",
       " 'Virtual Memory',\n",
       " 'Wifi',\n",
       " 'Word Pairs',\n",
       " 'Work Time',\n",
       " 'Working Set',\n",
       " 'Xor']"
      ]
     },
     "execution_count": 209,
     "metadata": {},
     "output_type": "execute_result"
    }
   ],
   "source": [
    "le = preprocessing.LabelEncoder()\n",
    "list_classes = le.fit(df['Tag'])\n",
    "list(le.classes_)"
   ]
  },
  {
   "cell_type": "code",
   "execution_count": 210,
   "metadata": {},
   "outputs": [],
   "source": [
    "num_classes = []\n",
    "for index,row in df.iterrows():\n",
    "    tag = row['Tag']\n",
    "    try:\n",
    "        num_classes.append(le.transform([tag])[0])\n",
    "    except:\n",
    "        num_classes.append(304)"
   ]
  },
  {
   "cell_type": "code",
   "execution_count": 211,
   "metadata": {},
   "outputs": [
    {
     "data": {
      "text/plain": [
       "1750"
      ]
     },
     "execution_count": 211,
     "metadata": {},
     "output_type": "execute_result"
    }
   ],
   "source": [
    "len(num_classes)"
   ]
  },
  {
   "cell_type": "code",
   "execution_count": 212,
   "metadata": {
    "collapsed": true
   },
   "outputs": [],
   "source": [
    "df['num_tag'] = num_classes"
   ]
  },
  {
   "cell_type": "code",
   "execution_count": 213,
   "metadata": {},
   "outputs": [
    {
     "data": {
      "text/html": [
       "<div>\n",
       "<style>\n",
       "    .dataframe thead tr:only-child th {\n",
       "        text-align: right;\n",
       "    }\n",
       "\n",
       "    .dataframe thead th {\n",
       "        text-align: left;\n",
       "    }\n",
       "\n",
       "    .dataframe tbody tr th {\n",
       "        vertical-align: top;\n",
       "    }\n",
       "</style>\n",
       "<table border=\"1\" class=\"dataframe\">\n",
       "  <thead>\n",
       "    <tr style=\"text-align: right;\">\n",
       "      <th></th>\n",
       "      <th>Question</th>\n",
       "      <th>Tag</th>\n",
       "      <th>Question_cleaned</th>\n",
       "      <th>num_tag</th>\n",
       "    </tr>\n",
       "  </thead>\n",
       "  <tbody>\n",
       "    <tr>\n",
       "      <th>0</th>\n",
       "      <td>Let A be array of n integers sorted so that A ...</td>\n",
       "      <td>Algorithm Design</td>\n",
       "      <td>let a be array of n integers sorted so that a ...</td>\n",
       "      <td>7</td>\n",
       "    </tr>\n",
       "    <tr>\n",
       "      <th>1</th>\n",
       "      <td>An element in an array X is called a leader if...</td>\n",
       "      <td>Algorithm Design</td>\n",
       "      <td>an element in an array x is called a leader if...</td>\n",
       "      <td>7</td>\n",
       "    </tr>\n",
       "    <tr>\n",
       "      <th>2</th>\n",
       "      <td>Given two arrays of numbers a_ 1 a_ n and b_ 1...</td>\n",
       "      <td>Algorithm Design</td>\n",
       "      <td>given two arrays of numbers a 1 a n and b 1 b ...</td>\n",
       "      <td>7</td>\n",
       "    </tr>\n",
       "    <tr>\n",
       "      <th>3</th>\n",
       "      <td>You are given ten rings numbered from 1 to 10 ...</td>\n",
       "      <td>Algorithm Design</td>\n",
       "      <td>you are given ten rings numbered from 1 to 10 ...</td>\n",
       "      <td>7</td>\n",
       "    </tr>\n",
       "    <tr>\n",
       "      <th>4</th>\n",
       "      <td>The correct matching for the following pairs i...</td>\n",
       "      <td>Algorithm Design Techniques</td>\n",
       "      <td>the correct matching for the following pairs i...</td>\n",
       "      <td>8</td>\n",
       "    </tr>\n",
       "    <tr>\n",
       "      <th>5</th>\n",
       "      <td>Match the following P Prim s algorithm for min...</td>\n",
       "      <td>Algorithm Design Techniques</td>\n",
       "      <td>match the following p prim s algorithm for min...</td>\n",
       "      <td>8</td>\n",
       "    </tr>\n",
       "  </tbody>\n",
       "</table>\n",
       "</div>"
      ],
      "text/plain": [
       "                                            Question  \\\n",
       "0  Let A be array of n integers sorted so that A ...   \n",
       "1  An element in an array X is called a leader if...   \n",
       "2  Given two arrays of numbers a_ 1 a_ n and b_ 1...   \n",
       "3  You are given ten rings numbered from 1 to 10 ...   \n",
       "4  The correct matching for the following pairs i...   \n",
       "5  Match the following P Prim s algorithm for min...   \n",
       "\n",
       "                           Tag  \\\n",
       "0             Algorithm Design   \n",
       "1             Algorithm Design   \n",
       "2             Algorithm Design   \n",
       "3             Algorithm Design   \n",
       "4  Algorithm Design Techniques   \n",
       "5  Algorithm Design Techniques   \n",
       "\n",
       "                                    Question_cleaned  num_tag  \n",
       "0  let a be array of n integers sorted so that a ...        7  \n",
       "1  an element in an array x is called a leader if...        7  \n",
       "2  given two arrays of numbers a 1 a n and b 1 b ...        7  \n",
       "3  you are given ten rings numbered from 1 to 10 ...        7  \n",
       "4  the correct matching for the following pairs i...        8  \n",
       "5  match the following p prim s algorithm for min...        8  "
      ]
     },
     "execution_count": 213,
     "metadata": {},
     "output_type": "execute_result"
    }
   ],
   "source": [
    "df.head(6)"
   ]
  },
  {
   "cell_type": "code",
   "execution_count": 215,
   "metadata": {
    "collapsed": true
   },
   "outputs": [],
   "source": [
    "texts = df[\"Question_cleaned\"].values\n",
    "labels = df[\"num_tag\"].values"
   ]
  },
  {
   "cell_type": "code",
   "execution_count": 216,
   "metadata": {},
   "outputs": [
    {
     "name": "stdout",
     "output_type": "stream",
     "text": [
      "Found 5686 unique tokens.\n",
      "('Shape of data tensor:', (1750, 100))\n",
      "('Shape of label tensor:', (1750, 305))\n"
     ]
    }
   ],
   "source": [
    "MAX_NUM_WORDS=1000 # how many unique words to use (i.e num rows in embedding vector)\n",
    "MAX_SEQUENCE_LENGTH=100 # max number of words in a review to use\n",
    "\n",
    "\n",
    "tokenizer = Tokenizer(num_words=MAX_NUM_WORDS)\n",
    "tokenizer.fit_on_texts(texts)\n",
    "sequences = tokenizer.texts_to_sequences(texts)\n",
    "\n",
    "word_index = tokenizer.word_index\n",
    "print('Found %s unique tokens.' % len(word_index))\n",
    "\n",
    "data = pad_sequences(sequences, maxlen=MAX_SEQUENCE_LENGTH)\n",
    "\n",
    "labels = to_categorical(np.asarray(labels))\n",
    "print('Shape of data tensor:', data.shape)\n",
    "print('Shape of label tensor:', labels.shape)"
   ]
  },
  {
   "cell_type": "markdown",
   "metadata": {},
   "source": [
    "<h3>Split the dataset into Train-Validation-Test set:</h3>\n",
    "<ul>\n",
    "<li>We first suffle the data to make sure even distribution of classes in train, validation and test sets.</li>\n",
    "<li>We are using 80-20 split for train and test data</li>\n",
    "<li>Training data is further devided into train and validation set</li>\n",
    "</ul>"
   ]
  },
  {
   "cell_type": "code",
   "execution_count": 217,
   "metadata": {
    "collapsed": true
   },
   "outputs": [],
   "source": [
    "VALIDATION_SPLIT=0.2\n",
    "indices = np.arange(data.shape[0])\n",
    "np.random.shuffle(indices)\n",
    "data = data[indices]\n",
    "labels = labels[indices]\n",
    "nb_validation_samples = int(VALIDATION_SPLIT * data.shape[0])\n",
    "\n",
    "x_train = data[:-nb_validation_samples]\n",
    "y_train = labels[:-nb_validation_samples]\n",
    "x_val = data[-nb_validation_samples:]\n",
    "y_val = labels[-nb_validation_samples:]"
   ]
  },
  {
   "cell_type": "code",
   "execution_count": 218,
   "metadata": {},
   "outputs": [],
   "source": [
    "x_train, x_test, y_train, y_test = train_test_split(x_train, y_train, test_size=0.2, random_state=1)"
   ]
  },
  {
   "cell_type": "code",
   "execution_count": 219,
   "metadata": {},
   "outputs": [
    {
     "name": "stdout",
     "output_type": "stream",
     "text": [
      "(1120, 100)\n",
      "(1120, 305)\n",
      "(350, 100)\n",
      "(350, 305)\n",
      "(280, 100)\n",
      "(280, 305)\n"
     ]
    }
   ],
   "source": [
    "print x_train.shape\n",
    "print y_train.shape\n",
    "print x_val.shape\n",
    "print y_val.shape\n",
    "print x_test.shape\n",
    "print y_test.shape"
   ]
  },
  {
   "cell_type": "markdown",
   "metadata": {},
   "source": [
    "<h3>Number of questions in each classes:</h3>"
   ]
  },
  {
   "cell_type": "code",
   "execution_count": 220,
   "metadata": {},
   "outputs": [
    {
     "data": {
      "image/png": "[encoded data removed]",
      "text/plain": [
       "<matplotlib.figure.Figure at 0x7efe81e723d0>"
      ]
     },
     "metadata": {},
     "output_type": "display_data"
    }
   ],
   "source": [
    "x=df['num_tag'].value_counts()\n",
    "y=x.sort_index()\n",
    "#plot\n",
    "plt.figure(figsize=(8,4))\n",
    "ax= sns.barplot(y.index, x.values, alpha=0.8)\n",
    "plt.title(\"Nepal Earthquake\")\n",
    "plt.ylabel('Number of tweets', fontsize=12)\n",
    "plt.xlabel('Class Labels ', fontsize=12);"
   ]
  },
  {
   "cell_type": "markdown",
   "metadata": {},
   "source": [
    "<h3>Loading GloVe vectors:</h3>\n",
    "<p> <b>NOTE:</b> The GloVe vectors I am using in this notebook is trained on tweet data. Possible improvement can be seen if vectors trained on relevant data is used for classificaton.</p>"
   ]
  },
  {
   "cell_type": "code",
   "execution_count": 124,
   "metadata": {},
   "outputs": [
    {
     "name": "stdout",
     "output_type": "stream",
     "text": [
      "Found 1193514 word vectors.\n"
     ]
    }
   ],
   "source": [
    "embeddings_index = {}\n",
    "f = open('glove.twitter.27B.200d.txt')\n",
    "for line in f:\n",
    "    values = line.split()\n",
    "    word = values[0]\n",
    "    coefs = np.asarray(values[1:], dtype='float32')\n",
    "    embeddings_index[word] = coefs\n",
    "f.close()\n",
    "\n",
    "print('Found %s word vectors.' % len(embeddings_index))"
   ]
  },
  {
   "cell_type": "markdown",
   "metadata": {},
   "source": [
    "<h3>LSTM network:</h3>\n",
    "<ul>\n",
    "<li>Create the LSTM network structure using Keras with TensorFlow as backend.</li>\n",
    "<li>Feed the data represented using GloVe vectors</li>\n",
    "<li>Train the network and use validation set to tune hyperparemeters</li>\n",
    "<li>Check accuracy on test data</li>\n",
    "</ul>"
   ]
  },
  {
   "cell_type": "code",
   "execution_count": 125,
   "metadata": {
    "collapsed": true
   },
   "outputs": [],
   "source": [
    "EMBEDDING_DIM = 200 # how big is each word vector\n",
    "\n",
    "embedding_matrix = np.zeros((len(word_index) + 1, EMBEDDING_DIM))\n",
    "for word, i in word_index.items():\n",
    "    embedding_vector = embeddings_index.get(word)\n",
    "    if embedding_vector is not None:\n",
    "        # words not found in embedding index will be all-zeros.\n",
    "        embedding_matrix[i] = embedding_vector"
   ]
  },
  {
   "cell_type": "code",
   "execution_count": 126,
   "metadata": {
    "collapsed": true
   },
   "outputs": [],
   "source": [
    "from keras.layers import Embedding\n",
    "\n",
    "embedding_layer = Embedding(len(word_index) + 1,\n",
    "                            EMBEDDING_DIM,\n",
    "                            weights=[embedding_matrix],\n",
    "                            input_length=MAX_SEQUENCE_LENGTH,\n",
    "                            trainable=False)"
   ]
  },
  {
   "cell_type": "code",
   "execution_count": 137,
   "metadata": {
    "collapsed": true
   },
   "outputs": [],
   "source": [
    "from keras.layers import Bidirectional, GlobalMaxPool1D,Conv1D\n",
    "from keras.layers import Dense, Input, LSTM, Embedding, Dropout, Activation\n",
    "\n",
    "from keras.models import Model\n",
    "\n",
    "\n",
    "inp = Input(shape=(MAX_SEQUENCE_LENGTH,))\n",
    "x = embedded_sequences = embedding_layer(inp)\n",
    "x = Bidirectional(LSTM(500, return_sequences=True, dropout=0.5, recurrent_dropout=0.1))(x)\n",
    "x = GlobalMaxPool1D()(x)\n",
    "x = Dense(50, activation=\"relu\")(x)\n",
    "x = Dropout(0.5)(x)\n",
    "x = Dense(305, activation=\"sigmoid\")(x)\n",
    "model = Model(inputs=inp, outputs=x)\n",
    "model.compile(loss='binary_crossentropy', optimizer='adam', metrics=['accuracy'])"
   ]
  },
  {
   "cell_type": "code",
   "execution_count": 221,
   "metadata": {},
   "outputs": [
    {
     "name": "stdout",
     "output_type": "stream",
     "text": [
      "Train on 1120 samples, validate on 350 samples\n",
      "Epoch 1/20\n",
      "1120/1120 [==============================] - 38s 34ms/step - loss: 5.3045 - acc: 0.0134 - val_loss: 5.1538 - val_acc: 0.0229\n",
      "Epoch 2/20\n",
      "1120/1120 [==============================] - 38s 34ms/step - loss: 5.2493 - acc: 0.0107 - val_loss: 5.1245 - val_acc: 0.0229\n",
      "Epoch 3/20\n",
      "1120/1120 [==============================] - 38s 34ms/step - loss: 5.2098 - acc: 0.0170 - val_loss: 5.0896 - val_acc: 0.0171\n",
      "Epoch 4/20\n",
      "1120/1120 [==============================] - 38s 34ms/step - loss: 5.1350 - acc: 0.0205 - val_loss: 5.1069 - val_acc: 0.0314\n",
      "Epoch 5/20\n",
      "1120/1120 [==============================] - 38s 34ms/step - loss: 5.1210 - acc: 0.0170 - val_loss: 5.0622 - val_acc: 0.0257\n",
      "Epoch 6/20\n",
      "1120/1120 [==============================] - 38s 34ms/step - loss: 5.0685 - acc: 0.0179 - val_loss: 5.0505 - val_acc: 0.0343\n",
      "Epoch 7/20\n",
      "1120/1120 [==============================] - 38s 34ms/step - loss: 5.0379 - acc: 0.0188 - val_loss: 5.0326 - val_acc: 0.0257\n",
      "Epoch 8/20\n",
      "1120/1120 [==============================] - 38s 34ms/step - loss: 4.9755 - acc: 0.0214 - val_loss: 4.9975 - val_acc: 0.0286\n",
      "Epoch 9/20\n",
      "1120/1120 [==============================] - 38s 34ms/step - loss: 4.9652 - acc: 0.0312 - val_loss: 4.9914 - val_acc: 0.0314\n",
      "Epoch 10/20\n",
      "1120/1120 [==============================] - 38s 34ms/step - loss: 4.8981 - acc: 0.0286 - val_loss: 4.9919 - val_acc: 0.0286\n",
      "Epoch 11/20\n",
      "1120/1120 [==============================] - 38s 34ms/step - loss: 4.8742 - acc: 0.0259 - val_loss: 4.9717 - val_acc: 0.0371\n",
      "Epoch 12/20\n",
      "1120/1120 [==============================] - 38s 34ms/step - loss: 4.8402 - acc: 0.0232 - val_loss: 4.9460 - val_acc: 0.0314\n",
      "Epoch 13/20\n",
      "1120/1120 [==============================] - 38s 34ms/step - loss: 4.7574 - acc: 0.0366 - val_loss: 4.9064 - val_acc: 0.0286\n",
      "Epoch 14/20\n",
      "1120/1120 [==============================] - 39s 35ms/step - loss: 4.6840 - acc: 0.0420 - val_loss: 4.8875 - val_acc: 0.0457\n",
      "Epoch 15/20\n",
      "1120/1120 [==============================] - 38s 34ms/step - loss: 4.6701 - acc: 0.0446 - val_loss: 4.8452 - val_acc: 0.0629\n",
      "Epoch 16/20\n",
      "1120/1120 [==============================] - 38s 34ms/step - loss: 4.6059 - acc: 0.0527 - val_loss: 4.7952 - val_acc: 0.0514\n",
      "Epoch 17/20\n",
      "1120/1120 [==============================] - 39s 34ms/step - loss: 4.5692 - acc: 0.0411 - val_loss: 4.7379 - val_acc: 0.0686\n",
      "Epoch 18/20\n",
      "1120/1120 [==============================] - 39s 35ms/step - loss: 4.4838 - acc: 0.0616 - val_loss: 4.7094 - val_acc: 0.0571\n",
      "Epoch 19/20\n",
      "1120/1120 [==============================] - 40s 36ms/step - loss: 4.4083 - acc: 0.0589 - val_loss: 4.7110 - val_acc: 0.0600\n",
      "Epoch 20/20\n",
      "1120/1120 [==============================] - 40s 36ms/step - loss: 4.3814 - acc: 0.0527 - val_loss: 4.6404 - val_acc: 0.0886\n"
     ]
    }
   ],
   "source": [
    "model.fit(x_train, y_train, validation_data=(x_val, y_val),\n",
    "          epochs=30, batch_size=64);"
   ]
  },
  {
   "cell_type": "code",
   "execution_count": 222,
   "metadata": {
    "collapsed": true
   },
   "outputs": [],
   "source": [
    "preds = model.predict(x_test)"
   ]
  },
  {
   "cell_type": "code",
   "execution_count": 263,
   "metadata": {
    "collapsed": true
   },
   "outputs": [],
   "source": [
    "temp = preds.copy()\n",
    "temp[temp>=0.4] = 1\n",
    "temp[temp<0.4] = 0"
   ]
  },
  {
   "cell_type": "code",
   "execution_count": 257,
   "metadata": {
    "scrolled": false
   },
   "outputs": [],
   "source": [
    "listm = []\n",
    "for j in preds:\n",
    "    max = -9999999\n",
    "    for i in j:\n",
    "        if i>max:\n",
    "            max = i\n",
    "    listm.append(max)"
   ]
  },
  {
   "cell_type": "code",
   "execution_count": 264,
   "metadata": {
    "collapsed": true
   },
   "outputs": [],
   "source": [
    "correct = 0\n",
    "for i in range(len(temp)):\n",
    "    a = temp[i]\n",
    "    b = y_test[i]\n",
    "    s = np.dot(a,b)\n",
    "    correct = correct + s\n",
    "\n",
    "acc = (correct*100)/len(temp)"
   ]
  },
  {
   "cell_type": "code",
   "execution_count": 265,
   "metadata": {},
   "outputs": [
    {
     "name": "stdout",
     "output_type": "stream",
     "text": [
      "accuraacy of test data: 44.285714285714285\n"
     ]
    }
   ],
   "source": [
    "print \"accuraacy of test data: \" + str(acc)"
   ]
  },
  {
   "cell_type": "markdown",
   "metadata": {},
   "source": [
    "<b>NOTE:</b> \n",
    "<ul>\n",
    "<li>Since the annotation for lables are done manually and more than one annotation may qualify as correct label, accuracy of the algorithm is determinded by the following way.\n",
    "</li>\n",
    "<li>LSTM network outputs a 303(total number of possible tags) length vector for each test data which consists of its confidence score about the question belonging to a particular tag. For accuracy calculation, tags which are outputted by the network with a confidence score >40% are considered as possible candidates and if the actual tag matches with any of them, it is considered to be success.</li>\n",
    "<li>Since deep neural networks typically require huge amount of data and the given data set is really small, the network is expected to underperform due to various reasons.</li>\n",
    "<li>There are various hyperparameters in this implementation and those can be further tuned to bring up the accuracy.</li>"
   ]
  },
  {
   "cell_type": "code",
   "execution_count": null,
   "metadata": {
    "collapsed": true
   },
   "outputs": [],
   "source": []
  }
 ],
 "metadata": {
  "kernelspec": {
   "display_name": "Python 2",
   "language": "python",
   "name": "python2"
  },
  "language_info": {
   "codemirror_mode": {
    "name": "ipython",
    "version": 2
   },
   "file_extension": ".py",
   "mimetype": "text/x-python",
   "name": "python",
   "nbconvert_exporter": "python",
   "pygments_lexer": "ipython2",
   "version": "2.7.12"
  }
 },
 "nbformat": 4,
 "nbformat_minor": 2
}
